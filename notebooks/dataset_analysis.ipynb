{
 "cells": [
  {
   "cell_type": "code",
   "execution_count": 54,
   "metadata": {},
   "outputs": [],
   "source": [
    "import torch\n",
    "import argparse\n",
    "import os\n",
    "import numpy as np\n",
    "\n",
    "# TensorBoard\n",
    "from torch.utils.tensorboard import SummaryWriter\n",
    "\n",
    "from data import get_dataset\n",
    "from experiment import ex\n",
    "from model import load_model\n",
    "\n",
    "from utils import post_config_hook\n",
    "from utils.yaml_config_hook import yaml_config_hook\n",
    "from utils.eval import eval_all\n",
    "from utils.youtube import download_yt\n",
    "from datasets.utils.resample import convert_samplerate\n",
    "\n",
    "import matplotlib.pyplot as plt\n",
    "\n",
    "\n",
    "cfg = yaml_config_hook(\"./config/config.yaml\")\n",
    "\n",
    "args = argparse.Namespace(**cfg)\n",
    "args.dataset = \"msd\"\n",
    "args.model_path = \"/storage/jspijkervet/logs_backup_ws7/clmr/2/\"\n",
    "args.epoch_num= 1490\n",
    "args.finetune_model_path = \"/storage/jspijkervet/logs_backup_ws7/clmr/4\"\n",
    "args.finetune_epoch_num = 50\n",
    "args.n_classes = 50 # 50 tags"
   ]
  },
  {
   "cell_type": "code",
   "execution_count": 55,
   "metadata": {},
   "outputs": [],
   "source": [
    "args.lin_eval = True\n",
    "args.device = torch.device(\"cuda:0\" if torch.cuda.is_available() else \"cpu\")\n",
    "args.batch_size = args.logistic_batch_size"
   ]
  },
  {
   "cell_type": "code",
   "execution_count": 56,
   "metadata": {},
   "outputs": [
    {
     "name": "stderr",
     "output_type": "stream",
     "text": [
      "201676it [00:05, 33748.23it/s]\n"
     ]
    },
    {
     "name": "stdout",
     "output_type": "stream",
     "text": [
      "Num segments: 2016760\n",
      "Num tracks: 201676\n",
      "[Train dataset (msd_22050)]\n"
     ]
    },
    {
     "name": "stderr",
     "output_type": "stream",
     "text": [
      "11774it [00:00, 41108.85it/s]\n"
     ]
    },
    {
     "name": "stdout",
     "output_type": "stream",
     "text": [
      "Num segments: 117740\n",
      "Num tracks: 11774\n",
      "[Validation dataset (msd_22050)]\n"
     ]
    },
    {
     "name": "stderr",
     "output_type": "stream",
     "text": [
      "28434it [00:01, 20822.59it/s]\n"
     ]
    },
    {
     "name": "stdout",
     "output_type": "stream",
     "text": [
      "Num segments: 284340\n",
      "Num tracks: 28434\n",
      "[Test dataset (msd_22050)]\n"
     ]
    }
   ],
   "source": [
    "(train_loader, train_dataset, val_loader, val_dataset, test_loader, test_dataset) = get_dataset(args)"
   ]
  },
  {
   "cell_type": "code",
   "execution_count": 62,
   "metadata": {},
   "outputs": [],
   "source": [
    "train_labels = np.array([l[2].numpy() for l in train_dataset.tracks_list_test])\n",
    "test_labels = np.array([l[2].numpy() for l in test_dataset.tracks_list_test])"
   ]
  },
  {
   "cell_type": "code",
   "execution_count": 66,
   "metadata": {},
   "outputs": [
    {
     "name": "stdout",
     "output_type": "stream",
     "text": [
      "rock 39650.0 4232.0\n",
      "pop 21726.0 3041.0\n",
      "alternative 14906.0 1686.0\n",
      "indie 19197.0 2709.0\n",
      "electronic 17082.0 2605.0\n",
      "female vocalists 14937.0 1928.0\n",
      "dance 8627.0 1456.0\n",
      "00s 3018.0 392.0\n",
      "alternative rock 7680.0 784.0\n",
      "jazz 13788.0 2564.0\n",
      "beautiful 2987.0 331.0\n",
      "metal 6426.0 1013.0\n",
      "chillout 5470.0 757.0\n",
      "male vocalists 2510.0 359.0\n",
      "classic rock 8369.0 686.0\n",
      "soul 10075.0 1354.0\n",
      "indie rock 7694.0 988.0\n",
      "Mellow 3019.0 407.0\n",
      "electronica 4864.0 721.0\n",
      "80s 7865.0 1032.0\n",
      "folk 8929.0 1266.0\n",
      "90s 4462.0 547.0\n",
      "chill 2086.0 298.0\n",
      "instrumental 6885.0 1079.0\n",
      "punk 8774.0 807.0\n",
      "oldies 5512.0 981.0\n",
      "blues 9151.0 995.0\n",
      "hard rock 6291.0 496.0\n",
      "ambient 5274.0 855.0\n",
      "acoustic 4653.0 572.0\n",
      "experimental 4786.0 747.0\n",
      "female vocalist 1840.0 244.0\n",
      "guitar 2790.0 351.0\n",
      "Hip-Hop 7541.0 1230.0\n",
      "70s 4143.0 492.0\n",
      "party 1015.0 168.0\n",
      "country 8215.0 1165.0\n",
      "easy listening 1987.0 258.0\n",
      "sexy 1153.0 200.0\n",
      "catchy 1076.0 131.0\n",
      "funk 4409.0 688.0\n",
      "electro 3351.0 680.0\n",
      "heavy metal 3596.0 519.0\n",
      "Progressive rock 4694.0 963.0\n",
      "60s 4604.0 639.0\n",
      "rnb 4191.0 616.0\n",
      "indie pop 3193.0 429.0\n",
      "sad 1116.0 145.0\n",
      "House 2908.0 435.0\n",
      "happy 711.0 94.0\n"
     ]
    }
   ],
   "source": [
    "for k, train, test in zip(train_dataset.tags, train_labels.sum(axis=0), test_labels.sum(axis=0)):\n",
    "    print(k, train, test)"
   ]
  },
  {
   "cell_type": "code",
   "execution_count": null,
   "metadata": {},
   "outputs": [],
   "source": []
  }
 ],
 "metadata": {
  "kernelspec": {
   "display_name": "clmr",
   "language": "python",
   "name": "clmr"
  },
  "language_info": {
   "codemirror_mode": {
    "name": "ipython",
    "version": 3
   },
   "file_extension": ".py",
   "mimetype": "text/x-python",
   "name": "python",
   "nbconvert_exporter": "python",
   "pygments_lexer": "ipython3",
   "version": "3.7.7"
  }
 },
 "nbformat": 4,
 "nbformat_minor": 2
}
